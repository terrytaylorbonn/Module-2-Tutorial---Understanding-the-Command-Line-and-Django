{
 "cells": [
  {
   "cell_type": "markdown",
   "id": "61609321-9d9f-4b44-bbc5-3069c57e8907",
   "metadata": {},
   "source": [
    "https://learning.oreilly.com/library/view/introducing-python-2nd/9781492051374/ch04.html#idm45795036770920\n",
    "4.1 Choose a number between 1 and 10 and assign it to the variable secret. Then, select another number between 1 and 10 and assign it to the variable guess. Next, write the conditional tests (if, else, and elif) to print the string 'too low' if guess is less than secret, 'too high' if greater than secret, and 'just right' if equal to secret."
   ]
  },
  {
   "cell_type": "code",
   "execution_count": 1,
   "id": "bb3f782b-2113-4edd-ac70-289d1601b8d5",
   "metadata": {},
   "outputs": [
    {
     "name": "stdout",
     "output_type": "stream",
     "text": [
      "Secret number: 1, Guess number: 6\n",
      "Too high\n"
     ]
    }
   ],
   "source": [
    "import random\n",
    "\n",
    "# Choose a random number between 1 and 10 for secret1\n",
    "secret1 = random.randint(1, 10)\n",
    "\n",
    "# Choose another random number between 1 and 10 for guess1\n",
    "guess1 = random.randint(1, 10)\n",
    "\n",
    "# Print the secret and guess for reference (you can remove this line later)\n",
    "print(f\"Secret number: {secret1}, Guess number: {guess1}\")\n",
    "\n",
    "# Conditional tests to compare guess1 and secret1\n",
    "if guess1 < secret1:\n",
    "    print(\"Too low\")\n",
    "elif guess1 > secret1:\n",
    "    print(\"Too high\")\n",
    "else:\n",
    "    print(\"Just right\")"
   ]
  },
  {
   "cell_type": "markdown",
   "id": "7960329c-d106-4d87-b78c-19eda7b32b6f",
   "metadata": {},
   "source": [
    "https://learning.oreilly.com/library/view/introducing-python-2nd/9781492051374/ch06.html#idm45795014289432\n",
    "6.1 Use a for loop to print the values of the list [3, 2, 1, 0]."
   ]
  },
  {
   "cell_type": "code",
   "execution_count": 3,
   "id": "4909bb3f-60c2-4f96-8345-1ade22d40886",
   "metadata": {},
   "outputs": [
    {
     "name": "stdout",
     "output_type": "stream",
     "text": [
      "3\n",
      "2\n",
      "1\n",
      "0\n"
     ]
    }
   ],
   "source": [
    "# Define the list\n",
    "numbers = [3, 2, 1, 0]\n",
    "\n",
    "# Use a for loop to iterate over the list and print each value\n",
    "for number in numbers:\n",
    "    print(number)"
   ]
  },
  {
   "cell_type": "markdown",
   "id": "09fa188b-b62a-4a7a-a750-8cdea0f6c635",
   "metadata": {},
   "source": [
    "https://learning.oreilly.com/library/view/introducing-python-2nd/9781492051374/ch06.html#idm45795014289432\n",
    "6.2 Assign the value 7 to the variable guess_me, and the value 1 to the variable number. Write a while loop that compares number with guess_me. Print 'too low' if number is less than guess me. If number equals guess_me, print 'found it!' and then exit the loop. If number is greater than guess_me, print 'oops' and then exit the loop. Increment number at the end of the loop."
   ]
  },
  {
   "cell_type": "code",
   "execution_count": 5,
   "id": "d0396edb-04b4-4e08-839e-049db4ee83d1",
   "metadata": {},
   "outputs": [
    {
     "name": "stdout",
     "output_type": "stream",
     "text": [
      "Too low\n",
      "Too low\n",
      "Too low\n",
      "Too low\n",
      "Too low\n",
      "Too low\n",
      "Found it!\n"
     ]
    }
   ],
   "source": [
    "# Assign initial values to the variables\n",
    "guess_me = 7\n",
    "number = 1\n",
    "\n",
    "# Start a while loop to compare number with guess_me\n",
    "while True:\n",
    "    if number < guess_me:\n",
    "        print(\"Too low\")\n",
    "    elif number == guess_me:\n",
    "        print(\"Found it!\")\n",
    "        break  # Exit the loop if number equals guess_me\n",
    "    else:\n",
    "        print(\"Oops\")\n",
    "        break  # Exit the loop if number is greater than guess_me\n",
    "\n",
    "    # Increment number at the end of each loop iteration\n",
    "    number += 1"
   ]
  },
  {
   "cell_type": "markdown",
   "id": "094d5ec8-01af-4fc4-8d8d-3d9ddc9368b0",
   "metadata": {},
   "source": [
    "https://learning.oreilly.com/library/view/introducing-python-2nd/9781492051374/ch06.html#idm45795014289432\n",
    "6.3 Assign the value 5 to the variable guess_me. Use a for loop to iterate a variable called number over range(10). If number is less than guess_me, print 'too low'. If it equals guess_me, print found it! and then break out of the for loop. If number is greater than guess_me, print 'oops' and then exit the loop."
   ]
  },
  {
   "cell_type": "code",
   "execution_count": 9,
   "id": "bdae7baf-2a95-406e-a55c-b23ee6658bcb",
   "metadata": {},
   "outputs": [
    {
     "name": "stdout",
     "output_type": "stream",
     "text": [
      "Too low\n",
      "Too low\n",
      "Too low\n",
      "Too low\n",
      "Too low\n",
      "Found it!\n"
     ]
    }
   ],
   "source": [
    "# Assign the value 5 to guess_me\n",
    "guess_me = 5\n",
    "\n",
    "# Use a for loop to iterate over the range of numbers from 0 to 9\n",
    "for number in range(10):\n",
    "    if number < guess_me:\n",
    "        print(\"Too low\")\n",
    "    elif number == guess_me:\n",
    "        print(\"Found it!\")\n",
    "        break  # Exit the loop if number equals guess_me\n",
    "    else:\n",
    "        print(\"Oops\")\n",
    "        break  # Exit the loop if number is greater than guess_me\n"
   ]
  },
  {
   "cell_type": "markdown",
   "id": "a72f52c6-4847-4a4e-9858-87876b2077eb",
   "metadata": {},
   "source": [
    "https://ivylearn.ivytech.edu/courses/1287794/assignments/20996026\n",
    "Write a Python app that will accept student names and GPAs and test if the student qualifies for either the Dean's List or the Honor Roll. Your app will:\r\n",
    "ask for and accept a student's last name.\r\n",
    "quit processing student records if the last name entered is 'ZZZ'.\r\n",
    "ask for and accept a student's first name.\r\n",
    "ask for and accept the student's GPA as a float.\r\n",
    "test if the student's GPA is 3.5 or greater and, if so, print a message saying that the student has made the Dean's List.\r\n",
    "test if the student's GPA is 3.25 or greater and, if so, print a message saying that the studnet has made the Honor Roll.\r\n",
    "Test your app using at least five students.\r\n",
    "Your header comments need to contain\r\n",
    "Your name\r\n",
    "The file name for your app\r\n",
    "A brief description of what your app will do"
   ]
  },
  {
   "cell_type": "code",
   "execution_count": 2,
   "id": "78696412-d810-4a8c-9502-a0e787d63715",
   "metadata": {},
   "outputs": [
    {
     "name": "stdin",
     "output_type": "stream",
     "text": [
      "Enter the student's last name (or 'ZZZ' to quit):  lastname1\n",
      "Enter the student's first name:  firstname1\n",
      "Enter the student's GPA:  4\n"
     ]
    },
    {
     "name": "stdout",
     "output_type": "stream",
     "text": [
      "firstname1 lastname1 has made the Dean's List!\n"
     ]
    },
    {
     "name": "stdin",
     "output_type": "stream",
     "text": [
      "Enter the student's last name (or 'ZZZ' to quit):  ZZZ\n"
     ]
    },
    {
     "name": "stdout",
     "output_type": "stream",
     "text": [
      "Exiting the program.\n"
     ]
    }
   ],
   "source": [
    "# This is the start of the application\n",
    "while True:\n",
    "    # Ask for and accept the student's last name\n",
    "    last_name = input(\"Enter the student's last name (or 'ZZZ' to quit): \")\n",
    "\n",
    "    # Quit if the last name is 'ZZZ'\n",
    "    if last_name == 'ZZZ':\n",
    "        print(\"Exiting the program.\")\n",
    "        break\n",
    "\n",
    "    # Ask for and accept the student's first name\n",
    "    first_name = input(\"Enter the student's first name: \")\n",
    "\n",
    "    # Ask for and accept the student's GPA as a float\n",
    "    try:\n",
    "        gpa = float(input(\"Enter the student's GPA: \"))\n",
    "    except ValueError:\n",
    "        print(\"Invalid GPA. Please enter a valid number.\")\n",
    "        continue\n",
    "\n",
    "    # Check if the student's GPA qualifies for the Dean's List\n",
    "    if gpa >= 3.5:\n",
    "        print(f\"{first_name} {last_name} has made the Dean's List!\")\n",
    "    \n",
    "    # Check if the student's GPA qualifies for the Honor Roll\n",
    "    elif gpa >= 3.25:\n",
    "        print(f\"{first_name} {last_name} has made the Honor Roll!\")\n",
    "    \n",
    "    # If the GPA does not qualify for either\n",
    "    else:\n",
    "        print(f\"{first_name} {last_name} did not qualify for the Dean's List or Honor Roll.\")\n"
   ]
  },
  {
   "cell_type": "code",
   "execution_count": null,
   "id": "3d64f4e7-44ab-4f59-8d8f-7a889a0a77ec",
   "metadata": {},
   "outputs": [],
   "source": []
  }
 ],
 "metadata": {
  "kernelspec": {
   "display_name": "Python 3 (ipykernel)",
   "language": "python",
   "name": "python3"
  },
  "language_info": {
   "codemirror_mode": {
    "name": "ipython",
    "version": 3
   },
   "file_extension": ".py",
   "mimetype": "text/x-python",
   "name": "python",
   "nbconvert_exporter": "python",
   "pygments_lexer": "ipython3",
   "version": "3.12.4"
  }
 },
 "nbformat": 4,
 "nbformat_minor": 5
}
